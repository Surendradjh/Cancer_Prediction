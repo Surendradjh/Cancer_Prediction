{
 "cells": [
  {
   "cell_type": "markdown",
   "id": "3e500e03-bc1e-4692-85bc-198df35039f1",
   "metadata": {},
   "source": [
    "# Cancer Prediction Using Machine Learning"
   ]
  },
  {
   "cell_type": "markdown",
   "id": "3d29808a-5a07-4a7d-bdad-4d05c43b87ea",
   "metadata": {},
   "source": [
    "    Cancer prediction using machine learning involves leveraging advanced algorithms to analyze medical data and predict the likelihood of cancer in patients. This approach aims to enhance early detection, enabling timely interventions and better patient outcomes"
   ]
  },
  {
   "cell_type": "markdown",
   "id": "9e247f2a-79b5-4d7f-be8f-6fd696eab87e",
   "metadata": {},
   "source": [
    "## Bussiness Problem"
   ]
  },
  {
   "cell_type": "markdown",
   "id": "0c7b19f7-9842-4832-b06e-7cbd487ad0e5",
   "metadata": {},
   "source": [
    "**Problem Statement:** Healthcare providers want to predict which patients are at risk of developing cancer in the near future.\n",
    "\n",
    "**Objective:** Develop a predictive model to identify patients at risk of cancer, allowing for early intervention and improved patient outcomes.\n",
    "\n",
    "**Constraints:**\n",
    "\n",
    "- **Data Quality and Availability:** Access to high-quality, comprehensive medical datasets is essential.\n",
    "\n",
    "- **Imbalanced Dataset:** There are fewer instances of cancer compared to non-cancer cases.\n",
    "\n",
    "- **Real-Time Prediction:** The model should provide predictions in a timely manner for proactive medical intervention.\n",
    "\n",
    "- **Regulatory Compliance:** Ensuring patient data privacy and adherence to healthcare regulations."
   ]
  },
  {
   "cell_type": "markdown",
   "id": "1ea97842-eb2a-47e6-bfea-2746f1ee4521",
   "metadata": {},
   "source": [
    "**Patients:** By identifying individuals at high risk for cancer early, patients can receive timely medical attention and preventive care, improving their chances of successful treatment and survival.\n",
    "\n",
    "**Healthcare Providers:** Doctors, nurses, and medical staff can leverage predictive models to enhance diagnostic accuracy, create personalized treatment plans, and monitor patient progress more effectively.\n",
    "\n",
    "**Researchers:** Medical researchers can use machine learning models to analyze vast datasets, uncover new insights into cancer biology, and develop innovative treatment strategies.\n",
    "\n",
    "**Hospitals and Clinics:** Healthcare institutions can optimize resource allocation, reduce operational costs, and improve patient outcomes by implementing predictive analytics.\n",
    "\n",
    "**Insurance Companies:** Insurers can use predictive models to assess risk more accurately, design better insurance products, and incentivize preventive care, ultimately reducing healthcare costs.\n",
    "\n",
    "**Pharmaceutical Companies:** Drug developers can identify suitable candidates for clinical trials, predict treatment efficacy, and accelerate the development of new cancer therapies.\n",
    "\n",
    "**Public Health Officials:** Government and public health agencies can use predictive analytics to design targeted cancer prevention and awareness programs, ultimately improving population health outcomes."
   ]
  },
  {
   "cell_type": "markdown",
   "id": "3a0353bf-0ee8-4146-bfff-96014adec220",
   "metadata": {},
   "source": [
    "## Data Understanding"
   ]
  },
  {
   "cell_type": "markdown",
   "id": "6748ceef-5857-4da6-a4f9-bbcbd74777e8",
   "metadata": {},
   "source": [
    "### Required Library"
   ]
  },
  {
   "cell_type": "code",
   "execution_count": 2,
   "id": "76d6224e-76bc-42e1-b274-27dcdaa153bb",
   "metadata": {},
   "outputs": [],
   "source": [
    "import pandas as pd\n",
    "import numpy as np\n",
    "import scipy.stats as st\n",
    "import matplotlib.pyplot as plt\n",
    "import seaborn as sns"
   ]
  },
  {
   "cell_type": "code",
   "execution_count": 3,
   "id": "5eac1029-8194-4605-91dd-51b8bcb024f2",
   "metadata": {},
   "outputs": [],
   "source": [
    "df = pd.read_csv(r'Data/cancer_prediction_data.csv')"
   ]
  },
  {
   "cell_type": "code",
   "execution_count": 4,
   "id": "6dfb0a3f-ba53-4683-98bb-3adf4a0efe82",
   "metadata": {},
   "outputs": [
    {
     "data": {
      "text/html": [
       "<div>\n",
       "<style scoped>\n",
       "    .dataframe tbody tr th:only-of-type {\n",
       "        vertical-align: middle;\n",
       "    }\n",
       "\n",
       "    .dataframe tbody tr th {\n",
       "        vertical-align: top;\n",
       "    }\n",
       "\n",
       "    .dataframe thead th {\n",
       "        text-align: right;\n",
       "    }\n",
       "</style>\n",
       "<table border=\"1\" class=\"dataframe\">\n",
       "  <thead>\n",
       "    <tr style=\"text-align: right;\">\n",
       "      <th></th>\n",
       "      <th>Age</th>\n",
       "      <th>Gender</th>\n",
       "      <th>Tumor_Size</th>\n",
       "      <th>Tumor_Grade</th>\n",
       "      <th>Symptoms_Severity</th>\n",
       "      <th>Family_History</th>\n",
       "      <th>Smoking_History</th>\n",
       "      <th>Alcohol_Consumption</th>\n",
       "      <th>Exercise_Frequency</th>\n",
       "      <th>Cancer_Present</th>\n",
       "    </tr>\n",
       "  </thead>\n",
       "  <tbody>\n",
       "    <tr>\n",
       "      <th>0</th>\n",
       "      <td>62.0</td>\n",
       "      <td>Male</td>\n",
       "      <td>9.763242</td>\n",
       "      <td>High</td>\n",
       "      <td>Mild</td>\n",
       "      <td>Yes</td>\n",
       "      <td>Former Smoker</td>\n",
       "      <td>Moderate</td>\n",
       "      <td>NaN</td>\n",
       "      <td>0</td>\n",
       "    </tr>\n",
       "    <tr>\n",
       "      <th>1</th>\n",
       "      <td>33.0</td>\n",
       "      <td>Male</td>\n",
       "      <td>7.946532</td>\n",
       "      <td>NaN</td>\n",
       "      <td>Moderate</td>\n",
       "      <td>Yes</td>\n",
       "      <td>Current Smoker</td>\n",
       "      <td>NaN</td>\n",
       "      <td>Regularly</td>\n",
       "      <td>1</td>\n",
       "    </tr>\n",
       "    <tr>\n",
       "      <th>2</th>\n",
       "      <td>33.0</td>\n",
       "      <td>Female</td>\n",
       "      <td>NaN</td>\n",
       "      <td>High</td>\n",
       "      <td>Moderate</td>\n",
       "      <td>No</td>\n",
       "      <td>Current Smoker</td>\n",
       "      <td>High</td>\n",
       "      <td>Rarely</td>\n",
       "      <td>1</td>\n",
       "    </tr>\n",
       "    <tr>\n",
       "      <th>3</th>\n",
       "      <td>58.0</td>\n",
       "      <td>Female</td>\n",
       "      <td>NaN</td>\n",
       "      <td>Low</td>\n",
       "      <td>Mild</td>\n",
       "      <td>NaN</td>\n",
       "      <td>Current Smoker</td>\n",
       "      <td>NaN</td>\n",
       "      <td>Rarely</td>\n",
       "      <td>1</td>\n",
       "    </tr>\n",
       "    <tr>\n",
       "      <th>4</th>\n",
       "      <td>NaN</td>\n",
       "      <td>Female</td>\n",
       "      <td>1.384231</td>\n",
       "      <td>Medium</td>\n",
       "      <td>Mild</td>\n",
       "      <td>No</td>\n",
       "      <td>Former Smoker</td>\n",
       "      <td>Moderate</td>\n",
       "      <td>Occasionally</td>\n",
       "      <td>1</td>\n",
       "    </tr>\n",
       "  </tbody>\n",
       "</table>\n",
       "</div>"
      ],
      "text/plain": [
       "    Age  Gender  Tumor_Size Tumor_Grade Symptoms_Severity Family_History  \\\n",
       "0  62.0    Male    9.763242        High              Mild            Yes   \n",
       "1  33.0    Male    7.946532         NaN          Moderate            Yes   \n",
       "2  33.0  Female         NaN        High          Moderate             No   \n",
       "3  58.0  Female         NaN         Low              Mild            NaN   \n",
       "4   NaN  Female    1.384231      Medium              Mild             No   \n",
       "\n",
       "  Smoking_History Alcohol_Consumption Exercise_Frequency  Cancer_Present  \n",
       "0   Former Smoker            Moderate                NaN               0  \n",
       "1  Current Smoker                 NaN          Regularly               1  \n",
       "2  Current Smoker                High             Rarely               1  \n",
       "3  Current Smoker                 NaN             Rarely               1  \n",
       "4   Former Smoker            Moderate       Occasionally               1  "
      ]
     },
     "execution_count": 4,
     "metadata": {},
     "output_type": "execute_result"
    }
   ],
   "source": [
    "df.head()"
   ]
  },
  {
   "cell_type": "markdown",
   "id": "1015a322-2bf3-4229-bfb4-e05601250f33",
   "metadata": {},
   "source": [
    "#### Data Discription"
   ]
  },
  {
   "cell_type": "markdown",
   "id": "87c2683b-3cc6-4ce5-b264-48489facb805",
   "metadata": {},
   "source": [
    "'Age                   : Numerical value representing the age of the patient (in years).   \n",
    "Gender                : Categorical value indicating the gender of the patient (e.g., Male, Female, Other).  \n",
    "Tumor_Size            :  Numerical value representing the size of the tumor, typically measured in millimeters (mm) or centimeters (cm).  \n",
    "Tumor_Grade           : Categorical value indicating the grade of the tumor, which reflects how abnormal the cancer cells look under a microscope (e.g., High, Low, Medium).  \n",
    "Symptoms_Severity     : Numerical or categorical value representing the severity of the patient's symptoms (e.g., Mild, Moderate, Severe).   \n",
    "Family_History        : Categorical value indicating whether there is a family history of cancer (e.g., Yes, No).  \n",
    "Smoking_History       : Categorical value indicating the patient's smoking history (e.g., Never Smoked, Former Smoker, Current Smoker).  \n",
    "Alcohol_Consumption   : Categorical or numerical value representing the patient's alcohol consumption (e.g., Moderate, High, Low).  \n",
    "Exercise_Frequency    : Numerical or categorical value representing how often the patient exercises (e.g., None, Occasionally, Regularly).  \n",
    "Cancer_Present        : Binary value indicating whether the patient has cancer (e.g., 0 for No, 1 for Yes).  '"
   ]
  },
  {
   "cell_type": "markdown",
   "id": "56ed1d04-6ffe-4184-abae-beb3bcacd606",
   "metadata": {},
   "source": [
    "## Exploratory Data analysis"
   ]
  },
  {
   "cell_type": "code",
   "execution_count": 10,
   "id": "526f409a-0280-4d9a-b184-f6bb473c9a46",
   "metadata": {},
   "outputs": [
    {
     "data": {
      "text/html": [
       "<div>\n",
       "<style scoped>\n",
       "    .dataframe tbody tr th:only-of-type {\n",
       "        vertical-align: middle;\n",
       "    }\n",
       "\n",
       "    .dataframe tbody tr th {\n",
       "        vertical-align: top;\n",
       "    }\n",
       "\n",
       "    .dataframe thead th {\n",
       "        text-align: right;\n",
       "    }\n",
       "</style>\n",
       "<table border=\"1\" class=\"dataframe\">\n",
       "  <thead>\n",
       "    <tr style=\"text-align: right;\">\n",
       "      <th></th>\n",
       "      <th>Age</th>\n",
       "      <th>Gender</th>\n",
       "      <th>Tumor_Size</th>\n",
       "      <th>Tumor_Grade</th>\n",
       "      <th>Symptoms_Severity</th>\n",
       "      <th>Family_History</th>\n",
       "      <th>Smoking_History</th>\n",
       "      <th>Alcohol_Consumption</th>\n",
       "      <th>Exercise_Frequency</th>\n",
       "      <th>Cancer_Present</th>\n",
       "    </tr>\n",
       "  </thead>\n",
       "  <tbody>\n",
       "    <tr>\n",
       "      <th>0</th>\n",
       "      <td>62.0</td>\n",
       "      <td>Male</td>\n",
       "      <td>9.763242</td>\n",
       "      <td>High</td>\n",
       "      <td>Mild</td>\n",
       "      <td>Yes</td>\n",
       "      <td>Former Smoker</td>\n",
       "      <td>Moderate</td>\n",
       "      <td>NaN</td>\n",
       "      <td>0</td>\n",
       "    </tr>\n",
       "    <tr>\n",
       "      <th>1</th>\n",
       "      <td>33.0</td>\n",
       "      <td>Male</td>\n",
       "      <td>7.946532</td>\n",
       "      <td>NaN</td>\n",
       "      <td>Moderate</td>\n",
       "      <td>Yes</td>\n",
       "      <td>Current Smoker</td>\n",
       "      <td>NaN</td>\n",
       "      <td>Regularly</td>\n",
       "      <td>1</td>\n",
       "    </tr>\n",
       "    <tr>\n",
       "      <th>2</th>\n",
       "      <td>33.0</td>\n",
       "      <td>Female</td>\n",
       "      <td>NaN</td>\n",
       "      <td>High</td>\n",
       "      <td>Moderate</td>\n",
       "      <td>No</td>\n",
       "      <td>Current Smoker</td>\n",
       "      <td>High</td>\n",
       "      <td>Rarely</td>\n",
       "      <td>1</td>\n",
       "    </tr>\n",
       "    <tr>\n",
       "      <th>3</th>\n",
       "      <td>58.0</td>\n",
       "      <td>Female</td>\n",
       "      <td>NaN</td>\n",
       "      <td>Low</td>\n",
       "      <td>Mild</td>\n",
       "      <td>NaN</td>\n",
       "      <td>Current Smoker</td>\n",
       "      <td>NaN</td>\n",
       "      <td>Rarely</td>\n",
       "      <td>1</td>\n",
       "    </tr>\n",
       "    <tr>\n",
       "      <th>4</th>\n",
       "      <td>NaN</td>\n",
       "      <td>Female</td>\n",
       "      <td>1.384231</td>\n",
       "      <td>Medium</td>\n",
       "      <td>Mild</td>\n",
       "      <td>No</td>\n",
       "      <td>Former Smoker</td>\n",
       "      <td>Moderate</td>\n",
       "      <td>Occasionally</td>\n",
       "      <td>1</td>\n",
       "    </tr>\n",
       "  </tbody>\n",
       "</table>\n",
       "</div>"
      ],
      "text/plain": [
       "    Age  Gender  Tumor_Size Tumor_Grade Symptoms_Severity Family_History  \\\n",
       "0  62.0    Male    9.763242        High              Mild            Yes   \n",
       "1  33.0    Male    7.946532         NaN          Moderate            Yes   \n",
       "2  33.0  Female         NaN        High          Moderate             No   \n",
       "3  58.0  Female         NaN         Low              Mild            NaN   \n",
       "4   NaN  Female    1.384231      Medium              Mild             No   \n",
       "\n",
       "  Smoking_History Alcohol_Consumption Exercise_Frequency  Cancer_Present  \n",
       "0   Former Smoker            Moderate                NaN               0  \n",
       "1  Current Smoker                 NaN          Regularly               1  \n",
       "2  Current Smoker                High             Rarely               1  \n",
       "3  Current Smoker                 NaN             Rarely               1  \n",
       "4   Former Smoker            Moderate       Occasionally               1  "
      ]
     },
     "execution_count": 10,
     "metadata": {},
     "output_type": "execute_result"
    }
   ],
   "source": [
    "df.head()"
   ]
  },
  {
   "cell_type": "code",
   "execution_count": 11,
   "id": "0f4021dc-d093-426c-b0f9-519c595bb3da",
   "metadata": {},
   "outputs": [
    {
     "name": "stdout",
     "output_type": "stream",
     "text": [
      "<class 'pandas.core.frame.DataFrame'>\n",
      "RangeIndex: 2000 entries, 0 to 1999\n",
      "Data columns (total 10 columns):\n",
      " #   Column               Non-Null Count  Dtype  \n",
      "---  ------               --------------  -----  \n",
      " 0   Age                  1811 non-null   float64\n",
      " 1   Gender               1794 non-null   object \n",
      " 2   Tumor_Size           1829 non-null   float64\n",
      " 3   Tumor_Grade          1807 non-null   object \n",
      " 4   Symptoms_Severity    1815 non-null   object \n",
      " 5   Family_History       1792 non-null   object \n",
      " 6   Smoking_History      1821 non-null   object \n",
      " 7   Alcohol_Consumption  1321 non-null   object \n",
      " 8   Exercise_Frequency   1805 non-null   object \n",
      " 9   Cancer_Present       2000 non-null   int64  \n",
      "dtypes: float64(2), int64(1), object(7)\n",
      "memory usage: 156.4+ KB\n"
     ]
    }
   ],
   "source": [
    "df.info()"
   ]
  },
  {
   "cell_type": "code",
   "execution_count": 12,
   "id": "69ff5428-c13d-4d8d-ab97-89ee226ac2ce",
   "metadata": {},
   "outputs": [
    {
     "data": {
      "text/html": [
       "<div>\n",
       "<style scoped>\n",
       "    .dataframe tbody tr th:only-of-type {\n",
       "        vertical-align: middle;\n",
       "    }\n",
       "\n",
       "    .dataframe tbody tr th {\n",
       "        vertical-align: top;\n",
       "    }\n",
       "\n",
       "    .dataframe thead th {\n",
       "        text-align: right;\n",
       "    }\n",
       "</style>\n",
       "<table border=\"1\" class=\"dataframe\">\n",
       "  <thead>\n",
       "    <tr style=\"text-align: right;\">\n",
       "      <th></th>\n",
       "      <th>Age</th>\n",
       "      <th>Tumor_Size</th>\n",
       "      <th>Cancer_Present</th>\n",
       "    </tr>\n",
       "  </thead>\n",
       "  <tbody>\n",
       "    <tr>\n",
       "      <th>count</th>\n",
       "      <td>1811.000000</td>\n",
       "      <td>1829.000000</td>\n",
       "      <td>2000.000000</td>\n",
       "    </tr>\n",
       "    <tr>\n",
       "      <th>mean</th>\n",
       "      <td>49.267808</td>\n",
       "      <td>5.133781</td>\n",
       "      <td>0.491500</td>\n",
       "    </tr>\n",
       "    <tr>\n",
       "      <th>std</th>\n",
       "      <td>17.361243</td>\n",
       "      <td>2.781335</td>\n",
       "      <td>0.500053</td>\n",
       "    </tr>\n",
       "    <tr>\n",
       "      <th>min</th>\n",
       "      <td>20.000000</td>\n",
       "      <td>0.507471</td>\n",
       "      <td>0.000000</td>\n",
       "    </tr>\n",
       "    <tr>\n",
       "      <th>25%</th>\n",
       "      <td>35.000000</td>\n",
       "      <td>2.700941</td>\n",
       "      <td>0.000000</td>\n",
       "    </tr>\n",
       "    <tr>\n",
       "      <th>50%</th>\n",
       "      <td>49.000000</td>\n",
       "      <td>5.079521</td>\n",
       "      <td>0.000000</td>\n",
       "    </tr>\n",
       "    <tr>\n",
       "      <th>75%</th>\n",
       "      <td>64.000000</td>\n",
       "      <td>7.588271</td>\n",
       "      <td>1.000000</td>\n",
       "    </tr>\n",
       "    <tr>\n",
       "      <th>max</th>\n",
       "      <td>79.000000</td>\n",
       "      <td>9.998166</td>\n",
       "      <td>1.000000</td>\n",
       "    </tr>\n",
       "  </tbody>\n",
       "</table>\n",
       "</div>"
      ],
      "text/plain": [
       "               Age   Tumor_Size  Cancer_Present\n",
       "count  1811.000000  1829.000000     2000.000000\n",
       "mean     49.267808     5.133781        0.491500\n",
       "std      17.361243     2.781335        0.500053\n",
       "min      20.000000     0.507471        0.000000\n",
       "25%      35.000000     2.700941        0.000000\n",
       "50%      49.000000     5.079521        0.000000\n",
       "75%      64.000000     7.588271        1.000000\n",
       "max      79.000000     9.998166        1.000000"
      ]
     },
     "execution_count": 12,
     "metadata": {},
     "output_type": "execute_result"
    }
   ],
   "source": [
    "df.describe()"
   ]
  },
  {
   "cell_type": "code",
   "execution_count": 13,
   "id": "17fc5fde-46be-4863-b7e1-45ebc4a70262",
   "metadata": {},
   "outputs": [
    {
     "data": {
      "text/html": [
       "<div>\n",
       "<style scoped>\n",
       "    .dataframe tbody tr th:only-of-type {\n",
       "        vertical-align: middle;\n",
       "    }\n",
       "\n",
       "    .dataframe tbody tr th {\n",
       "        vertical-align: top;\n",
       "    }\n",
       "\n",
       "    .dataframe thead th {\n",
       "        text-align: right;\n",
       "    }\n",
       "</style>\n",
       "<table border=\"1\" class=\"dataframe\">\n",
       "  <thead>\n",
       "    <tr style=\"text-align: right;\">\n",
       "      <th></th>\n",
       "      <th>Gender</th>\n",
       "      <th>Tumor_Grade</th>\n",
       "      <th>Symptoms_Severity</th>\n",
       "      <th>Family_History</th>\n",
       "      <th>Smoking_History</th>\n",
       "      <th>Alcohol_Consumption</th>\n",
       "      <th>Exercise_Frequency</th>\n",
       "    </tr>\n",
       "  </thead>\n",
       "  <tbody>\n",
       "    <tr>\n",
       "      <th>count</th>\n",
       "      <td>1794</td>\n",
       "      <td>1807</td>\n",
       "      <td>1815</td>\n",
       "      <td>1792</td>\n",
       "      <td>1821</td>\n",
       "      <td>1321</td>\n",
       "      <td>1805</td>\n",
       "    </tr>\n",
       "    <tr>\n",
       "      <th>unique</th>\n",
       "      <td>2</td>\n",
       "      <td>3</td>\n",
       "      <td>3</td>\n",
       "      <td>2</td>\n",
       "      <td>3</td>\n",
       "      <td>3</td>\n",
       "      <td>4</td>\n",
       "    </tr>\n",
       "    <tr>\n",
       "      <th>top</th>\n",
       "      <td>Female</td>\n",
       "      <td>Low</td>\n",
       "      <td>Moderate</td>\n",
       "      <td>Yes</td>\n",
       "      <td>Former Smoker</td>\n",
       "      <td>High</td>\n",
       "      <td>Never</td>\n",
       "    </tr>\n",
       "    <tr>\n",
       "      <th>freq</th>\n",
       "      <td>930</td>\n",
       "      <td>619</td>\n",
       "      <td>614</td>\n",
       "      <td>897</td>\n",
       "      <td>624</td>\n",
       "      <td>446</td>\n",
       "      <td>467</td>\n",
       "    </tr>\n",
       "  </tbody>\n",
       "</table>\n",
       "</div>"
      ],
      "text/plain": [
       "        Gender Tumor_Grade Symptoms_Severity Family_History Smoking_History  \\\n",
       "count     1794        1807              1815           1792            1821   \n",
       "unique       2           3                 3              2               3   \n",
       "top     Female         Low          Moderate            Yes   Former Smoker   \n",
       "freq       930         619               614            897             624   \n",
       "\n",
       "       Alcohol_Consumption Exercise_Frequency  \n",
       "count                 1321               1805  \n",
       "unique                   3                  4  \n",
       "top                   High              Never  \n",
       "freq                   446                467  "
      ]
     },
     "execution_count": 13,
     "metadata": {},
     "output_type": "execute_result"
    }
   ],
   "source": [
    "df.describe(include='object')"
   ]
  },
  {
   "cell_type": "markdown",
   "id": "5c309323-1a0e-4815-bd64-56704f3df653",
   "metadata": {},
   "source": [
    "### Univariate"
   ]
  },
  {
   "cell_type": "code",
   "execution_count": 50,
   "id": "a8556419-fbe4-42c1-a21f-b3054a0f5fca",
   "metadata": {},
   "outputs": [],
   "source": [
    "def univariate(x,*plots,data=df):\n",
    "    r = int(len(plots)//3)+1\n",
    "    fig,ax = plt.subplots(nrows=r,ncols=3,figsize=(r*10,r*5),constrained_layout=True)\n",
    "    ax = ax.flatten()\n",
    "    def hist(x,data):\n",
    "        sns.histplot(data=data[x],ax=ax[num],bins=10,color=\"g\",kde=True)\n",
    "        #ax[0].set_title(f\"Histogram for {x}\")\n",
    "    \n",
    "    def scatter(x,data):\n",
    "        sns.scatterplot(data[x],ax=ax[num])\n",
    "        #ax[1].set_title(f\"Scatter Plot for {x}\")\n",
    "        \n",
    "    def box(x,data):\n",
    "        sns.boxplot(data[x],ax=ax[num],color=\"orange\")\n",
    "        #ax[2].set_title(f\"BoxPlot for {x}\")\n",
    "\n",
    "    def violen(x,data):\n",
    "        sns.violinplot(data[x],ax=ax[num],color=\"tomato\")\n",
    "        #ax[3].set_title(f\"Violen for {x}\")\n",
    "        \n",
    "    def bar(x,data):\n",
    "        sns.barplot(data[x].value_counts(),ax=ax[num])\n",
    "\n",
    "    def line(x,data):\n",
    "            # Time Series \n",
    "            fig,ax = plt.subplots(1,2,figsize=(16,4))\n",
    "            axes=ax.flatten()\n",
    "            sns.lineplot(data[x].dt.year.value_counts(),ax=axes[0])\n",
    "            sns.lineplot(data[x][data[\"Date\"].dt.year==2023].dt.month.value_counts(),ax=axes[1])\n",
    "            fig.suptitle(\"Time series Data\")\n",
    "            axes[0].set_title(\"Yearly Based\")\n",
    "            ax[1].set_title(\"Monthly Based\")\n",
    "            plt.plot()\n",
    "    if __name__ == \"__main__\":\n",
    "        if (data[x].dtype == \"int64\") or (data[x].dtype == \"float64\"): \n",
    "            print(\"Statistical Description:\")\n",
    "            print(data[x].describe())\n",
    "            print(\"variance :\".ljust(25),round(np.var(data[x]),2))\n",
    "            print(\"Standered Deviation :\".ljust(25),round(np.std(data[x]),2))\n",
    "            print(\"Range :\".ljust(25),np.max(data[x])-np.min(data[x]))\n",
    "            print(\"InterQuatile Range :\".ljust(25),np.percentile(data[x],75)-np.percentile(data[x],25))\n",
    "        elif data[x].dtype == \"datetime64[ns]\":\n",
    "            pass\n",
    "        else:\n",
    "            print(data[x].describe(include=\"object\"))\n",
    "        num = 0\n",
    "        \n",
    "        for i in plots:\n",
    "            if i.lower() == \"hist\":\n",
    "                hist(x,data)\n",
    "                num += 1\n",
    "            elif i.lower() == \"scatter\":\n",
    "                scatter(x,data)\n",
    "                num += 1\n",
    "            elif i.lower() == \"box\":\n",
    "                box(x,data)\n",
    "                num += 1\n",
    "            elif i.lower() == \"violen\":\n",
    "                violen(x,data)\n",
    "                num += 1\n",
    "            elif i.lower() == \"bar\":\n",
    "                bar(x,data)\n",
    "                num+=1\n",
    "            elif i.lower() == \"line\":\n",
    "                line(x,data)\n",
    "        [fig.delaxes(a) for a in ax if not a.has_data()]    \n",
    "        fig.suptitle(f\"univariate analysis of {x}\",fontsize=16)\n",
    "        plt.plot()\n",
    "            "
   ]
  },
  {
   "cell_type": "code",
   "execution_count": 51,
   "id": "fc6bb1d0-b7a5-43b2-a1a9-2416d04e2ccc",
   "metadata": {},
   "outputs": [
    {
     "data": {
      "text/plain": [
       "Index(['Age', 'Gender', 'Tumor_Size', 'Tumor_Grade', 'Symptoms_Severity',\n",
       "       'Family_History', 'Smoking_History', 'Alcohol_Consumption',\n",
       "       'Exercise_Frequency', 'Cancer_Present'],\n",
       "      dtype='object')"
      ]
     },
     "execution_count": 51,
     "metadata": {},
     "output_type": "execute_result"
    }
   ],
   "source": [
    "df.columns"
   ]
  },
  {
   "cell_type": "code",
   "execution_count": 52,
   "id": "dff969e9-8fd2-4155-8050-4d12e8c8a23b",
   "metadata": {},
   "outputs": [
    {
     "name": "stdout",
     "output_type": "stream",
     "text": [
      "Statistical Description:\n",
      "count    1811.000000\n",
      "mean       49.267808\n",
      "std        17.361243\n",
      "min        20.000000\n",
      "25%        35.000000\n",
      "50%        49.000000\n",
      "75%        64.000000\n",
      "max        79.000000\n",
      "Name: Age, dtype: float64\n",
      "variance :                301.25\n",
      "Standered Deviation :     17.36\n",
      "Range :                   59.0\n",
      "InterQuatile Range :      nan\n"
     ]
    },
    {
     "data": {
      "image/png": "[encoded data removed]",
      "text/plain": [
       "<Figure size 1000x500 with 1 Axes>"
      ]
     },
     "metadata": {},
     "output_type": "display_data"
    }
   ],
   "source": [
    "univariate('Age','hist')"
   ]
  },
  {
   "cell_type": "code",
   "execution_count": 21,
   "id": "d637af9b-7acc-405f-96c3-7053bc62102c",
   "metadata": {},
   "outputs": [],
   "source": [
    "numaric = ['Age', 'Tumor_Size']\n",
    "ordinal = ['Tumor_Grade', 'Symptoms_Severity', 'Alcohol_Consumption', 'Exercise_Frequency']\n",
    "nominal = ['Gender','Smoking_History',]"
   ]
  },
  {
   "cell_type": "markdown",
   "id": "0123a539-6e41-4c7a-af09-7a4e07ed208c",
   "metadata": {},
   "source": [
    "## Pipeline"
   ]
  },
  {
   "cell_type": "code",
   "execution_count": 6,
   "id": "1b618499-8d81-49bb-9523-ef42e74eadbd",
   "metadata": {},
   "outputs": [],
   "source": [
    "from sklearn.pipeline import Pipeline\n",
    "from sklearn.compose import ColumnTransformer\n",
    "from sklearn.impute import SimpleImputer\n",
    "from sklearn.preprocessing import OneHotEncoder, OrdinalEncoder, StandardScaler"
   ]
  },
  {
   "cell_type": "code",
   "execution_count": 8,
   "id": "6fb4aff3-4780-4153-9d79-ff0c38f04320",
   "metadata": {},
   "outputs": [
    {
     "data": {
      "text/html": [
       "<style>#sk-container-id-1 {color: black;}#sk-container-id-1 pre{padding: 0;}#sk-container-id-1 div.sk-toggleable {background-color: white;}#sk-container-id-1 label.sk-toggleable__label {cursor: pointer;display: block;width: 100%;margin-bottom: 0;padding: 0.3em;box-sizing: border-box;text-align: center;}#sk-container-id-1 label.sk-toggleable__label-arrow:before {content: \"▸\";float: left;margin-right: 0.25em;color: #696969;}#sk-container-id-1 label.sk-toggleable__label-arrow:hover:before {color: black;}#sk-container-id-1 div.sk-estimator:hover label.sk-toggleable__label-arrow:before {color: black;}#sk-container-id-1 div.sk-toggleable__content {max-height: 0;max-width: 0;overflow: hidden;text-align: left;background-color: #f0f8ff;}#sk-container-id-1 div.sk-toggleable__content pre {margin: 0.2em;color: black;border-radius: 0.25em;background-color: #f0f8ff;}#sk-container-id-1 input.sk-toggleable__control:checked~div.sk-toggleable__content {max-height: 200px;max-width: 100%;overflow: auto;}#sk-container-id-1 input.sk-toggleable__control:checked~label.sk-toggleable__label-arrow:before {content: \"▾\";}#sk-container-id-1 div.sk-estimator input.sk-toggleable__control:checked~label.sk-toggleable__label {background-color: #d4ebff;}#sk-container-id-1 div.sk-label input.sk-toggleable__control:checked~label.sk-toggleable__label {background-color: #d4ebff;}#sk-container-id-1 input.sk-hidden--visually {border: 0;clip: rect(1px 1px 1px 1px);clip: rect(1px, 1px, 1px, 1px);height: 1px;margin: -1px;overflow: hidden;padding: 0;position: absolute;width: 1px;}#sk-container-id-1 div.sk-estimator {font-family: monospace;background-color: #f0f8ff;border: 1px dotted black;border-radius: 0.25em;box-sizing: border-box;margin-bottom: 0.5em;}#sk-container-id-1 div.sk-estimator:hover {background-color: #d4ebff;}#sk-container-id-1 div.sk-parallel-item::after {content: \"\";width: 100%;border-bottom: 1px solid gray;flex-grow: 1;}#sk-container-id-1 div.sk-label:hover label.sk-toggleable__label {background-color: #d4ebff;}#sk-container-id-1 div.sk-serial::before {content: \"\";position: absolute;border-left: 1px solid gray;box-sizing: border-box;top: 0;bottom: 0;left: 50%;z-index: 0;}#sk-container-id-1 div.sk-serial {display: flex;flex-direction: column;align-items: center;background-color: white;padding-right: 0.2em;padding-left: 0.2em;position: relative;}#sk-container-id-1 div.sk-item {position: relative;z-index: 1;}#sk-container-id-1 div.sk-parallel {display: flex;align-items: stretch;justify-content: center;background-color: white;position: relative;}#sk-container-id-1 div.sk-item::before, #sk-container-id-1 div.sk-parallel-item::before {content: \"\";position: absolute;border-left: 1px solid gray;box-sizing: border-box;top: 0;bottom: 0;left: 50%;z-index: -1;}#sk-container-id-1 div.sk-parallel-item {display: flex;flex-direction: column;z-index: 1;position: relative;background-color: white;}#sk-container-id-1 div.sk-parallel-item:first-child::after {align-self: flex-end;width: 50%;}#sk-container-id-1 div.sk-parallel-item:last-child::after {align-self: flex-start;width: 50%;}#sk-container-id-1 div.sk-parallel-item:only-child::after {width: 0;}#sk-container-id-1 div.sk-dashed-wrapped {border: 1px dashed gray;margin: 0 0.4em 0.5em 0.4em;box-sizing: border-box;padding-bottom: 0.4em;background-color: white;}#sk-container-id-1 div.sk-label label {font-family: monospace;font-weight: bold;display: inline-block;line-height: 1.2em;}#sk-container-id-1 div.sk-label-container {text-align: center;}#sk-container-id-1 div.sk-container {/* jupyter's `normalize.less` sets `[hidden] { display: none; }` but bootstrap.min.css set `[hidden] { display: none !important; }` so we also need the `!important` here to be able to override the default hidden behavior on the sphinx rendered scikit-learn.org. See: https://github.com/scikit-learn/scikit-learn/issues/21755 */display: inline-block !important;position: relative;}#sk-container-id-1 div.sk-text-repr-fallback {display: none;}</style><div id=\"sk-container-id-1\" class=\"sk-top-container\"><div class=\"sk-text-repr-fallback\"><pre>Pipeline(steps=[(&#x27;Mean Imputer&#x27;, SimpleImputer()),\n",
       "                (&#x27;Scaling&#x27;, StandardScaler())])</pre><b>In a Jupyter environment, please rerun this cell to show the HTML representation or trust the notebook. <br />On GitHub, the HTML representation is unable to render, please try loading this page with nbviewer.org.</b></div><div class=\"sk-container\" hidden><div class=\"sk-item sk-dashed-wrapped\"><div class=\"sk-label-container\"><div class=\"sk-label sk-toggleable\"><input class=\"sk-toggleable__control sk-hidden--visually\" id=\"sk-estimator-id-1\" type=\"checkbox\" ><label for=\"sk-estimator-id-1\" class=\"sk-toggleable__label sk-toggleable__label-arrow\">Pipeline</label><div class=\"sk-toggleable__content\"><pre>Pipeline(steps=[(&#x27;Mean Imputer&#x27;, SimpleImputer()),\n",
       "                (&#x27;Scaling&#x27;, StandardScaler())])</pre></div></div></div><div class=\"sk-serial\"><div class=\"sk-item\"><div class=\"sk-estimator sk-toggleable\"><input class=\"sk-toggleable__control sk-hidden--visually\" id=\"sk-estimator-id-2\" type=\"checkbox\" ><label for=\"sk-estimator-id-2\" class=\"sk-toggleable__label sk-toggleable__label-arrow\">SimpleImputer</label><div class=\"sk-toggleable__content\"><pre>SimpleImputer()</pre></div></div></div><div class=\"sk-item\"><div class=\"sk-estimator sk-toggleable\"><input class=\"sk-toggleable__control sk-hidden--visually\" id=\"sk-estimator-id-3\" type=\"checkbox\" ><label for=\"sk-estimator-id-3\" class=\"sk-toggleable__label sk-toggleable__label-arrow\">StandardScaler</label><div class=\"sk-toggleable__content\"><pre>StandardScaler()</pre></div></div></div></div></div></div></div>"
      ],
      "text/plain": [
       "Pipeline(steps=[('Mean Imputer', SimpleImputer()),\n",
       "                ('Scaling', StandardScaler())])"
      ]
     },
     "execution_count": 8,
     "metadata": {},
     "output_type": "execute_result"
    }
   ],
   "source": [
    "numaric_preprocesssing = Pipeline([('Mean Imputer',SimpleImputer(strategy='mean')),\n",
    "                                  ('Scaling',StandardScaler())])\n",
    "numaric_preprocesssing"
   ]
  },
  {
   "cell_type": "code",
   "execution_count": 12,
   "id": "f689df9e-d28a-422a-807c-422b16f8965e",
   "metadata": {},
   "outputs": [
    {
     "data": {
      "text/html": [
       "<style>#sk-container-id-3 {color: black;}#sk-container-id-3 pre{padding: 0;}#sk-container-id-3 div.sk-toggleable {background-color: white;}#sk-container-id-3 label.sk-toggleable__label {cursor: pointer;display: block;width: 100%;margin-bottom: 0;padding: 0.3em;box-sizing: border-box;text-align: center;}#sk-container-id-3 label.sk-toggleable__label-arrow:before {content: \"▸\";float: left;margin-right: 0.25em;color: #696969;}#sk-container-id-3 label.sk-toggleable__label-arrow:hover:before {color: black;}#sk-container-id-3 div.sk-estimator:hover label.sk-toggleable__label-arrow:before {color: black;}#sk-container-id-3 div.sk-toggleable__content {max-height: 0;max-width: 0;overflow: hidden;text-align: left;background-color: #f0f8ff;}#sk-container-id-3 div.sk-toggleable__content pre {margin: 0.2em;color: black;border-radius: 0.25em;background-color: #f0f8ff;}#sk-container-id-3 input.sk-toggleable__control:checked~div.sk-toggleable__content {max-height: 200px;max-width: 100%;overflow: auto;}#sk-container-id-3 input.sk-toggleable__control:checked~label.sk-toggleable__label-arrow:before {content: \"▾\";}#sk-container-id-3 div.sk-estimator input.sk-toggleable__control:checked~label.sk-toggleable__label {background-color: #d4ebff;}#sk-container-id-3 div.sk-label input.sk-toggleable__control:checked~label.sk-toggleable__label {background-color: #d4ebff;}#sk-container-id-3 input.sk-hidden--visually {border: 0;clip: rect(1px 1px 1px 1px);clip: rect(1px, 1px, 1px, 1px);height: 1px;margin: -1px;overflow: hidden;padding: 0;position: absolute;width: 1px;}#sk-container-id-3 div.sk-estimator {font-family: monospace;background-color: #f0f8ff;border: 1px dotted black;border-radius: 0.25em;box-sizing: border-box;margin-bottom: 0.5em;}#sk-container-id-3 div.sk-estimator:hover {background-color: #d4ebff;}#sk-container-id-3 div.sk-parallel-item::after {content: \"\";width: 100%;border-bottom: 1px solid gray;flex-grow: 1;}#sk-container-id-3 div.sk-label:hover label.sk-toggleable__label {background-color: #d4ebff;}#sk-container-id-3 div.sk-serial::before {content: \"\";position: absolute;border-left: 1px solid gray;box-sizing: border-box;top: 0;bottom: 0;left: 50%;z-index: 0;}#sk-container-id-3 div.sk-serial {display: flex;flex-direction: column;align-items: center;background-color: white;padding-right: 0.2em;padding-left: 0.2em;position: relative;}#sk-container-id-3 div.sk-item {position: relative;z-index: 1;}#sk-container-id-3 div.sk-parallel {display: flex;align-items: stretch;justify-content: center;background-color: white;position: relative;}#sk-container-id-3 div.sk-item::before, #sk-container-id-3 div.sk-parallel-item::before {content: \"\";position: absolute;border-left: 1px solid gray;box-sizing: border-box;top: 0;bottom: 0;left: 50%;z-index: -1;}#sk-container-id-3 div.sk-parallel-item {display: flex;flex-direction: column;z-index: 1;position: relative;background-color: white;}#sk-container-id-3 div.sk-parallel-item:first-child::after {align-self: flex-end;width: 50%;}#sk-container-id-3 div.sk-parallel-item:last-child::after {align-self: flex-start;width: 50%;}#sk-container-id-3 div.sk-parallel-item:only-child::after {width: 0;}#sk-container-id-3 div.sk-dashed-wrapped {border: 1px dashed gray;margin: 0 0.4em 0.5em 0.4em;box-sizing: border-box;padding-bottom: 0.4em;background-color: white;}#sk-container-id-3 div.sk-label label {font-family: monospace;font-weight: bold;display: inline-block;line-height: 1.2em;}#sk-container-id-3 div.sk-label-container {text-align: center;}#sk-container-id-3 div.sk-container {/* jupyter's `normalize.less` sets `[hidden] { display: none; }` but bootstrap.min.css set `[hidden] { display: none !important; }` so we also need the `!important` here to be able to override the default hidden behavior on the sphinx rendered scikit-learn.org. See: https://github.com/scikit-learn/scikit-learn/issues/21755 */display: inline-block !important;position: relative;}#sk-container-id-3 div.sk-text-repr-fallback {display: none;}</style><div id=\"sk-container-id-3\" class=\"sk-top-container\"><div class=\"sk-text-repr-fallback\"><pre>Pipeline(steps=[(&#x27;mode Imputer&#x27;, SimpleImputer(strategy=&#x27;most_frequent&#x27;)),\n",
       "                (&#x27;Encoding&#x27;, OrdinalEncoder(dtype=&lt;class &#x27;int&#x27;&gt;))])</pre><b>In a Jupyter environment, please rerun this cell to show the HTML representation or trust the notebook. <br />On GitHub, the HTML representation is unable to render, please try loading this page with nbviewer.org.</b></div><div class=\"sk-container\" hidden><div class=\"sk-item sk-dashed-wrapped\"><div class=\"sk-label-container\"><div class=\"sk-label sk-toggleable\"><input class=\"sk-toggleable__control sk-hidden--visually\" id=\"sk-estimator-id-8\" type=\"checkbox\" ><label for=\"sk-estimator-id-8\" class=\"sk-toggleable__label sk-toggleable__label-arrow\">Pipeline</label><div class=\"sk-toggleable__content\"><pre>Pipeline(steps=[(&#x27;mode Imputer&#x27;, SimpleImputer(strategy=&#x27;most_frequent&#x27;)),\n",
       "                (&#x27;Encoding&#x27;, OrdinalEncoder(dtype=&lt;class &#x27;int&#x27;&gt;))])</pre></div></div></div><div class=\"sk-serial\"><div class=\"sk-item\"><div class=\"sk-estimator sk-toggleable\"><input class=\"sk-toggleable__control sk-hidden--visually\" id=\"sk-estimator-id-9\" type=\"checkbox\" ><label for=\"sk-estimator-id-9\" class=\"sk-toggleable__label sk-toggleable__label-arrow\">SimpleImputer</label><div class=\"sk-toggleable__content\"><pre>SimpleImputer(strategy=&#x27;most_frequent&#x27;)</pre></div></div></div><div class=\"sk-item\"><div class=\"sk-estimator sk-toggleable\"><input class=\"sk-toggleable__control sk-hidden--visually\" id=\"sk-estimator-id-10\" type=\"checkbox\" ><label for=\"sk-estimator-id-10\" class=\"sk-toggleable__label sk-toggleable__label-arrow\">OrdinalEncoder</label><div class=\"sk-toggleable__content\"><pre>OrdinalEncoder(dtype=&lt;class &#x27;int&#x27;&gt;)</pre></div></div></div></div></div></div></div>"
      ],
      "text/plain": [
       "Pipeline(steps=[('mode Imputer', SimpleImputer(strategy='most_frequent')),\n",
       "                ('Encoding', OrdinalEncoder(dtype=<class 'int'>))])"
      ]
     },
     "execution_count": 12,
     "metadata": {},
     "output_type": "execute_result"
    }
   ],
   "source": [
    "ordinal_preprocesssing = Pipeline([('mode Imputer',SimpleImputer(strategy='most_frequent')),\n",
    "                                  ('Encoding',OrdinalEncoder(dtype=int))])\n",
    "ordinal_preprocesssing"
   ]
  },
  {
   "cell_type": "code",
   "execution_count": 22,
   "id": "710917af-4cfe-4e3c-9900-fce19db99532",
   "metadata": {},
   "outputs": [
    {
     "data": {
      "text/html": [
       "<style>#sk-container-id-6 {color: black;}#sk-container-id-6 pre{padding: 0;}#sk-container-id-6 div.sk-toggleable {background-color: white;}#sk-container-id-6 label.sk-toggleable__label {cursor: pointer;display: block;width: 100%;margin-bottom: 0;padding: 0.3em;box-sizing: border-box;text-align: center;}#sk-container-id-6 label.sk-toggleable__label-arrow:before {content: \"▸\";float: left;margin-right: 0.25em;color: #696969;}#sk-container-id-6 label.sk-toggleable__label-arrow:hover:before {color: black;}#sk-container-id-6 div.sk-estimator:hover label.sk-toggleable__label-arrow:before {color: black;}#sk-container-id-6 div.sk-toggleable__content {max-height: 0;max-width: 0;overflow: hidden;text-align: left;background-color: #f0f8ff;}#sk-container-id-6 div.sk-toggleable__content pre {margin: 0.2em;color: black;border-radius: 0.25em;background-color: #f0f8ff;}#sk-container-id-6 input.sk-toggleable__control:checked~div.sk-toggleable__content {max-height: 200px;max-width: 100%;overflow: auto;}#sk-container-id-6 input.sk-toggleable__control:checked~label.sk-toggleable__label-arrow:before {content: \"▾\";}#sk-container-id-6 div.sk-estimator input.sk-toggleable__control:checked~label.sk-toggleable__label {background-color: #d4ebff;}#sk-container-id-6 div.sk-label input.sk-toggleable__control:checked~label.sk-toggleable__label {background-color: #d4ebff;}#sk-container-id-6 input.sk-hidden--visually {border: 0;clip: rect(1px 1px 1px 1px);clip: rect(1px, 1px, 1px, 1px);height: 1px;margin: -1px;overflow: hidden;padding: 0;position: absolute;width: 1px;}#sk-container-id-6 div.sk-estimator {font-family: monospace;background-color: #f0f8ff;border: 1px dotted black;border-radius: 0.25em;box-sizing: border-box;margin-bottom: 0.5em;}#sk-container-id-6 div.sk-estimator:hover {background-color: #d4ebff;}#sk-container-id-6 div.sk-parallel-item::after {content: \"\";width: 100%;border-bottom: 1px solid gray;flex-grow: 1;}#sk-container-id-6 div.sk-label:hover label.sk-toggleable__label {background-color: #d4ebff;}#sk-container-id-6 div.sk-serial::before {content: \"\";position: absolute;border-left: 1px solid gray;box-sizing: border-box;top: 0;bottom: 0;left: 50%;z-index: 0;}#sk-container-id-6 div.sk-serial {display: flex;flex-direction: column;align-items: center;background-color: white;padding-right: 0.2em;padding-left: 0.2em;position: relative;}#sk-container-id-6 div.sk-item {position: relative;z-index: 1;}#sk-container-id-6 div.sk-parallel {display: flex;align-items: stretch;justify-content: center;background-color: white;position: relative;}#sk-container-id-6 div.sk-item::before, #sk-container-id-6 div.sk-parallel-item::before {content: \"\";position: absolute;border-left: 1px solid gray;box-sizing: border-box;top: 0;bottom: 0;left: 50%;z-index: -1;}#sk-container-id-6 div.sk-parallel-item {display: flex;flex-direction: column;z-index: 1;position: relative;background-color: white;}#sk-container-id-6 div.sk-parallel-item:first-child::after {align-self: flex-end;width: 50%;}#sk-container-id-6 div.sk-parallel-item:last-child::after {align-self: flex-start;width: 50%;}#sk-container-id-6 div.sk-parallel-item:only-child::after {width: 0;}#sk-container-id-6 div.sk-dashed-wrapped {border: 1px dashed gray;margin: 0 0.4em 0.5em 0.4em;box-sizing: border-box;padding-bottom: 0.4em;background-color: white;}#sk-container-id-6 div.sk-label label {font-family: monospace;font-weight: bold;display: inline-block;line-height: 1.2em;}#sk-container-id-6 div.sk-label-container {text-align: center;}#sk-container-id-6 div.sk-container {/* jupyter's `normalize.less` sets `[hidden] { display: none; }` but bootstrap.min.css set `[hidden] { display: none !important; }` so we also need the `!important` here to be able to override the default hidden behavior on the sphinx rendered scikit-learn.org. See: https://github.com/scikit-learn/scikit-learn/issues/21755 */display: inline-block !important;position: relative;}#sk-container-id-6 div.sk-text-repr-fallback {display: none;}</style><div id=\"sk-container-id-6\" class=\"sk-top-container\"><div class=\"sk-text-repr-fallback\"><pre>Pipeline(steps=[(&#x27;mode Imputer&#x27;, SimpleImputer(strategy=&#x27;most_frequent&#x27;)),\n",
       "                (&#x27;Encoding&#x27;, OneHotEncoder(dtype=&lt;class &#x27;int&#x27;&gt;))])</pre><b>In a Jupyter environment, please rerun this cell to show the HTML representation or trust the notebook. <br />On GitHub, the HTML representation is unable to render, please try loading this page with nbviewer.org.</b></div><div class=\"sk-container\" hidden><div class=\"sk-item sk-dashed-wrapped\"><div class=\"sk-label-container\"><div class=\"sk-label sk-toggleable\"><input class=\"sk-toggleable__control sk-hidden--visually\" id=\"sk-estimator-id-27\" type=\"checkbox\" ><label for=\"sk-estimator-id-27\" class=\"sk-toggleable__label sk-toggleable__label-arrow\">Pipeline</label><div class=\"sk-toggleable__content\"><pre>Pipeline(steps=[(&#x27;mode Imputer&#x27;, SimpleImputer(strategy=&#x27;most_frequent&#x27;)),\n",
       "                (&#x27;Encoding&#x27;, OneHotEncoder(dtype=&lt;class &#x27;int&#x27;&gt;))])</pre></div></div></div><div class=\"sk-serial\"><div class=\"sk-item\"><div class=\"sk-estimator sk-toggleable\"><input class=\"sk-toggleable__control sk-hidden--visually\" id=\"sk-estimator-id-28\" type=\"checkbox\" ><label for=\"sk-estimator-id-28\" class=\"sk-toggleable__label sk-toggleable__label-arrow\">SimpleImputer</label><div class=\"sk-toggleable__content\"><pre>SimpleImputer(strategy=&#x27;most_frequent&#x27;)</pre></div></div></div><div class=\"sk-item\"><div class=\"sk-estimator sk-toggleable\"><input class=\"sk-toggleable__control sk-hidden--visually\" id=\"sk-estimator-id-29\" type=\"checkbox\" ><label for=\"sk-estimator-id-29\" class=\"sk-toggleable__label sk-toggleable__label-arrow\">OneHotEncoder</label><div class=\"sk-toggleable__content\"><pre>OneHotEncoder(dtype=&lt;class &#x27;int&#x27;&gt;)</pre></div></div></div></div></div></div></div>"
      ],
      "text/plain": [
       "Pipeline(steps=[('mode Imputer', SimpleImputer(strategy='most_frequent')),\n",
       "                ('Encoding', OneHotEncoder(dtype=<class 'int'>))])"
      ]
     },
     "execution_count": 22,
     "metadata": {},
     "output_type": "execute_result"
    }
   ],
   "source": [
    "nominal_preprocesssing = Pipeline([('mode Imputer',SimpleImputer(strategy='most_frequent')),\n",
    "                                  ('Encoding',OneHotEncoder(dtype=int))])\n",
    "nominal_preprocesssing"
   ]
  },
  {
   "cell_type": "code",
   "execution_count": null,
   "id": "1424cd4f-4802-409f-8ddc-0a1982090452",
   "metadata": {},
   "outputs": [],
   "source": []
  },
  {
   "cell_type": "code",
   "execution_count": 23,
   "id": "35ab25e0-6d41-4dd5-ad24-ede0daecc9a8",
   "metadata": {},
   "outputs": [],
   "source": [
    "preprocessing = ColumnTransformer([('Numarical Transformer',numaric_preprocesssing,numaric),\n",
    "                                  ('Ordinal Transformer',ordinal_preprocesssing,ordinal),\n",
    "                                  ('Nominal Transformer',nominal_preprocesssing,ordinal)],\n",
    "                                 remainder='passthrough')"
   ]
  },
  {
   "cell_type": "code",
   "execution_count": 24,
   "id": "393c34ae-a37b-40fa-8bfc-43eed9eed1bc",
   "metadata": {},
   "outputs": [
    {
     "data": {
      "text/html": [
       "<style>#sk-container-id-7 {color: black;}#sk-container-id-7 pre{padding: 0;}#sk-container-id-7 div.sk-toggleable {background-color: white;}#sk-container-id-7 label.sk-toggleable__label {cursor: pointer;display: block;width: 100%;margin-bottom: 0;padding: 0.3em;box-sizing: border-box;text-align: center;}#sk-container-id-7 label.sk-toggleable__label-arrow:before {content: \"▸\";float: left;margin-right: 0.25em;color: #696969;}#sk-container-id-7 label.sk-toggleable__label-arrow:hover:before {color: black;}#sk-container-id-7 div.sk-estimator:hover label.sk-toggleable__label-arrow:before {color: black;}#sk-container-id-7 div.sk-toggleable__content {max-height: 0;max-width: 0;overflow: hidden;text-align: left;background-color: #f0f8ff;}#sk-container-id-7 div.sk-toggleable__content pre {margin: 0.2em;color: black;border-radius: 0.25em;background-color: #f0f8ff;}#sk-container-id-7 input.sk-toggleable__control:checked~div.sk-toggleable__content {max-height: 200px;max-width: 100%;overflow: auto;}#sk-container-id-7 input.sk-toggleable__control:checked~label.sk-toggleable__label-arrow:before {content: \"▾\";}#sk-container-id-7 div.sk-estimator input.sk-toggleable__control:checked~label.sk-toggleable__label {background-color: #d4ebff;}#sk-container-id-7 div.sk-label input.sk-toggleable__control:checked~label.sk-toggleable__label {background-color: #d4ebff;}#sk-container-id-7 input.sk-hidden--visually {border: 0;clip: rect(1px 1px 1px 1px);clip: rect(1px, 1px, 1px, 1px);height: 1px;margin: -1px;overflow: hidden;padding: 0;position: absolute;width: 1px;}#sk-container-id-7 div.sk-estimator {font-family: monospace;background-color: #f0f8ff;border: 1px dotted black;border-radius: 0.25em;box-sizing: border-box;margin-bottom: 0.5em;}#sk-container-id-7 div.sk-estimator:hover {background-color: #d4ebff;}#sk-container-id-7 div.sk-parallel-item::after {content: \"\";width: 100%;border-bottom: 1px solid gray;flex-grow: 1;}#sk-container-id-7 div.sk-label:hover label.sk-toggleable__label {background-color: #d4ebff;}#sk-container-id-7 div.sk-serial::before {content: \"\";position: absolute;border-left: 1px solid gray;box-sizing: border-box;top: 0;bottom: 0;left: 50%;z-index: 0;}#sk-container-id-7 div.sk-serial {display: flex;flex-direction: column;align-items: center;background-color: white;padding-right: 0.2em;padding-left: 0.2em;position: relative;}#sk-container-id-7 div.sk-item {position: relative;z-index: 1;}#sk-container-id-7 div.sk-parallel {display: flex;align-items: stretch;justify-content: center;background-color: white;position: relative;}#sk-container-id-7 div.sk-item::before, #sk-container-id-7 div.sk-parallel-item::before {content: \"\";position: absolute;border-left: 1px solid gray;box-sizing: border-box;top: 0;bottom: 0;left: 50%;z-index: -1;}#sk-container-id-7 div.sk-parallel-item {display: flex;flex-direction: column;z-index: 1;position: relative;background-color: white;}#sk-container-id-7 div.sk-parallel-item:first-child::after {align-self: flex-end;width: 50%;}#sk-container-id-7 div.sk-parallel-item:last-child::after {align-self: flex-start;width: 50%;}#sk-container-id-7 div.sk-parallel-item:only-child::after {width: 0;}#sk-container-id-7 div.sk-dashed-wrapped {border: 1px dashed gray;margin: 0 0.4em 0.5em 0.4em;box-sizing: border-box;padding-bottom: 0.4em;background-color: white;}#sk-container-id-7 div.sk-label label {font-family: monospace;font-weight: bold;display: inline-block;line-height: 1.2em;}#sk-container-id-7 div.sk-label-container {text-align: center;}#sk-container-id-7 div.sk-container {/* jupyter's `normalize.less` sets `[hidden] { display: none; }` but bootstrap.min.css set `[hidden] { display: none !important; }` so we also need the `!important` here to be able to override the default hidden behavior on the sphinx rendered scikit-learn.org. See: https://github.com/scikit-learn/scikit-learn/issues/21755 */display: inline-block !important;position: relative;}#sk-container-id-7 div.sk-text-repr-fallback {display: none;}</style><div id=\"sk-container-id-7\" class=\"sk-top-container\"><div class=\"sk-text-repr-fallback\"><pre>ColumnTransformer(remainder=&#x27;passthrough&#x27;,\n",
       "                  transformers=[(&#x27;Numarical Transformer&#x27;,\n",
       "                                 Pipeline(steps=[(&#x27;Mean Imputer&#x27;,\n",
       "                                                  SimpleImputer()),\n",
       "                                                 (&#x27;Scaling&#x27;,\n",
       "                                                  StandardScaler())]),\n",
       "                                 [&#x27;Age&#x27;, &#x27;Tumor_Size&#x27;]),\n",
       "                                (&#x27;Ordinal Transformer&#x27;,\n",
       "                                 Pipeline(steps=[(&#x27;mode Imputer&#x27;,\n",
       "                                                  SimpleImputer(strategy=&#x27;most_frequent&#x27;)),\n",
       "                                                 (&#x27;Encoding&#x27;,\n",
       "                                                  OrdinalEncoder(dtype=&lt;class &#x27;int&#x27;&gt;))]),\n",
       "                                 [&#x27;Tumor_Grade&#x27;, &#x27;Symptoms_Severity&#x27;,\n",
       "                                  &#x27;Alcohol_Consumption&#x27;,\n",
       "                                  &#x27;Exercise_Frequency&#x27;]),\n",
       "                                (&#x27;Nominal Transformer&#x27;,\n",
       "                                 Pipeline(steps=[(&#x27;mode Imputer&#x27;,\n",
       "                                                  SimpleImputer(strategy=&#x27;most_frequent&#x27;)),\n",
       "                                                 (&#x27;Encoding&#x27;,\n",
       "                                                  OneHotEncoder(dtype=&lt;class &#x27;int&#x27;&gt;))]),\n",
       "                                 [&#x27;Tumor_Grade&#x27;, &#x27;Symptoms_Severity&#x27;,\n",
       "                                  &#x27;Alcohol_Consumption&#x27;,\n",
       "                                  &#x27;Exercise_Frequency&#x27;])])</pre><b>In a Jupyter environment, please rerun this cell to show the HTML representation or trust the notebook. <br />On GitHub, the HTML representation is unable to render, please try loading this page with nbviewer.org.</b></div><div class=\"sk-container\" hidden><div class=\"sk-item sk-dashed-wrapped\"><div class=\"sk-label-container\"><div class=\"sk-label sk-toggleable\"><input class=\"sk-toggleable__control sk-hidden--visually\" id=\"sk-estimator-id-30\" type=\"checkbox\" ><label for=\"sk-estimator-id-30\" class=\"sk-toggleable__label sk-toggleable__label-arrow\">ColumnTransformer</label><div class=\"sk-toggleable__content\"><pre>ColumnTransformer(remainder=&#x27;passthrough&#x27;,\n",
       "                  transformers=[(&#x27;Numarical Transformer&#x27;,\n",
       "                                 Pipeline(steps=[(&#x27;Mean Imputer&#x27;,\n",
       "                                                  SimpleImputer()),\n",
       "                                                 (&#x27;Scaling&#x27;,\n",
       "                                                  StandardScaler())]),\n",
       "                                 [&#x27;Age&#x27;, &#x27;Tumor_Size&#x27;]),\n",
       "                                (&#x27;Ordinal Transformer&#x27;,\n",
       "                                 Pipeline(steps=[(&#x27;mode Imputer&#x27;,\n",
       "                                                  SimpleImputer(strategy=&#x27;most_frequent&#x27;)),\n",
       "                                                 (&#x27;Encoding&#x27;,\n",
       "                                                  OrdinalEncoder(dtype=&lt;class &#x27;int&#x27;&gt;))]),\n",
       "                                 [&#x27;Tumor_Grade&#x27;, &#x27;Symptoms_Severity&#x27;,\n",
       "                                  &#x27;Alcohol_Consumption&#x27;,\n",
       "                                  &#x27;Exercise_Frequency&#x27;]),\n",
       "                                (&#x27;Nominal Transformer&#x27;,\n",
       "                                 Pipeline(steps=[(&#x27;mode Imputer&#x27;,\n",
       "                                                  SimpleImputer(strategy=&#x27;most_frequent&#x27;)),\n",
       "                                                 (&#x27;Encoding&#x27;,\n",
       "                                                  OneHotEncoder(dtype=&lt;class &#x27;int&#x27;&gt;))]),\n",
       "                                 [&#x27;Tumor_Grade&#x27;, &#x27;Symptoms_Severity&#x27;,\n",
       "                                  &#x27;Alcohol_Consumption&#x27;,\n",
       "                                  &#x27;Exercise_Frequency&#x27;])])</pre></div></div></div><div class=\"sk-parallel\"><div class=\"sk-parallel-item\"><div class=\"sk-item\"><div class=\"sk-label-container\"><div class=\"sk-label sk-toggleable\"><input class=\"sk-toggleable__control sk-hidden--visually\" id=\"sk-estimator-id-31\" type=\"checkbox\" ><label for=\"sk-estimator-id-31\" class=\"sk-toggleable__label sk-toggleable__label-arrow\">Numarical Transformer</label><div class=\"sk-toggleable__content\"><pre>[&#x27;Age&#x27;, &#x27;Tumor_Size&#x27;]</pre></div></div></div><div class=\"sk-serial\"><div class=\"sk-item\"><div class=\"sk-serial\"><div class=\"sk-item\"><div class=\"sk-estimator sk-toggleable\"><input class=\"sk-toggleable__control sk-hidden--visually\" id=\"sk-estimator-id-32\" type=\"checkbox\" ><label for=\"sk-estimator-id-32\" class=\"sk-toggleable__label sk-toggleable__label-arrow\">SimpleImputer</label><div class=\"sk-toggleable__content\"><pre>SimpleImputer()</pre></div></div></div><div class=\"sk-item\"><div class=\"sk-estimator sk-toggleable\"><input class=\"sk-toggleable__control sk-hidden--visually\" id=\"sk-estimator-id-33\" type=\"checkbox\" ><label for=\"sk-estimator-id-33\" class=\"sk-toggleable__label sk-toggleable__label-arrow\">StandardScaler</label><div class=\"sk-toggleable__content\"><pre>StandardScaler()</pre></div></div></div></div></div></div></div></div><div class=\"sk-parallel-item\"><div class=\"sk-item\"><div class=\"sk-label-container\"><div class=\"sk-label sk-toggleable\"><input class=\"sk-toggleable__control sk-hidden--visually\" id=\"sk-estimator-id-34\" type=\"checkbox\" ><label for=\"sk-estimator-id-34\" class=\"sk-toggleable__label sk-toggleable__label-arrow\">Ordinal Transformer</label><div class=\"sk-toggleable__content\"><pre>[&#x27;Tumor_Grade&#x27;, &#x27;Symptoms_Severity&#x27;, &#x27;Alcohol_Consumption&#x27;, &#x27;Exercise_Frequency&#x27;]</pre></div></div></div><div class=\"sk-serial\"><div class=\"sk-item\"><div class=\"sk-serial\"><div class=\"sk-item\"><div class=\"sk-estimator sk-toggleable\"><input class=\"sk-toggleable__control sk-hidden--visually\" id=\"sk-estimator-id-35\" type=\"checkbox\" ><label for=\"sk-estimator-id-35\" class=\"sk-toggleable__label sk-toggleable__label-arrow\">SimpleImputer</label><div class=\"sk-toggleable__content\"><pre>SimpleImputer(strategy=&#x27;most_frequent&#x27;)</pre></div></div></div><div class=\"sk-item\"><div class=\"sk-estimator sk-toggleable\"><input class=\"sk-toggleable__control sk-hidden--visually\" id=\"sk-estimator-id-36\" type=\"checkbox\" ><label for=\"sk-estimator-id-36\" class=\"sk-toggleable__label sk-toggleable__label-arrow\">OrdinalEncoder</label><div class=\"sk-toggleable__content\"><pre>OrdinalEncoder(dtype=&lt;class &#x27;int&#x27;&gt;)</pre></div></div></div></div></div></div></div></div><div class=\"sk-parallel-item\"><div class=\"sk-item\"><div class=\"sk-label-container\"><div class=\"sk-label sk-toggleable\"><input class=\"sk-toggleable__control sk-hidden--visually\" id=\"sk-estimator-id-37\" type=\"checkbox\" ><label for=\"sk-estimator-id-37\" class=\"sk-toggleable__label sk-toggleable__label-arrow\">Nominal Transformer</label><div class=\"sk-toggleable__content\"><pre>[&#x27;Tumor_Grade&#x27;, &#x27;Symptoms_Severity&#x27;, &#x27;Alcohol_Consumption&#x27;, &#x27;Exercise_Frequency&#x27;]</pre></div></div></div><div class=\"sk-serial\"><div class=\"sk-item\"><div class=\"sk-serial\"><div class=\"sk-item\"><div class=\"sk-estimator sk-toggleable\"><input class=\"sk-toggleable__control sk-hidden--visually\" id=\"sk-estimator-id-38\" type=\"checkbox\" ><label for=\"sk-estimator-id-38\" class=\"sk-toggleable__label sk-toggleable__label-arrow\">SimpleImputer</label><div class=\"sk-toggleable__content\"><pre>SimpleImputer(strategy=&#x27;most_frequent&#x27;)</pre></div></div></div><div class=\"sk-item\"><div class=\"sk-estimator sk-toggleable\"><input class=\"sk-toggleable__control sk-hidden--visually\" id=\"sk-estimator-id-39\" type=\"checkbox\" ><label for=\"sk-estimator-id-39\" class=\"sk-toggleable__label sk-toggleable__label-arrow\">OneHotEncoder</label><div class=\"sk-toggleable__content\"><pre>OneHotEncoder(dtype=&lt;class &#x27;int&#x27;&gt;)</pre></div></div></div></div></div></div></div></div><div class=\"sk-parallel-item\"><div class=\"sk-item\"><div class=\"sk-label-container\"><div class=\"sk-label sk-toggleable\"><input class=\"sk-toggleable__control sk-hidden--visually\" id=\"sk-estimator-id-40\" type=\"checkbox\" ><label for=\"sk-estimator-id-40\" class=\"sk-toggleable__label sk-toggleable__label-arrow\">remainder</label><div class=\"sk-toggleable__content\"><pre></pre></div></div></div><div class=\"sk-serial\"><div class=\"sk-item\"><div class=\"sk-estimator sk-toggleable\"><input class=\"sk-toggleable__control sk-hidden--visually\" id=\"sk-estimator-id-41\" type=\"checkbox\" ><label for=\"sk-estimator-id-41\" class=\"sk-toggleable__label sk-toggleable__label-arrow\">passthrough</label><div class=\"sk-toggleable__content\"><pre>passthrough</pre></div></div></div></div></div></div></div></div></div></div>"
      ],
      "text/plain": [
       "ColumnTransformer(remainder='passthrough',\n",
       "                  transformers=[('Numarical Transformer',\n",
       "                                 Pipeline(steps=[('Mean Imputer',\n",
       "                                                  SimpleImputer()),\n",
       "                                                 ('Scaling',\n",
       "                                                  StandardScaler())]),\n",
       "                                 ['Age', 'Tumor_Size']),\n",
       "                                ('Ordinal Transformer',\n",
       "                                 Pipeline(steps=[('mode Imputer',\n",
       "                                                  SimpleImputer(strategy='most_frequent')),\n",
       "                                                 ('Encoding',\n",
       "                                                  OrdinalEncoder(dtype=<class 'int'>))]),\n",
       "                                 ['Tumor_Grade', 'Symptoms_Severity',\n",
       "                                  'Alcohol_Consumption',\n",
       "                                  'Exercise_Frequency']),\n",
       "                                ('Nominal Transformer',\n",
       "                                 Pipeline(steps=[('mode Imputer',\n",
       "                                                  SimpleImputer(strategy='most_frequent')),\n",
       "                                                 ('Encoding',\n",
       "                                                  OneHotEncoder(dtype=<class 'int'>))]),\n",
       "                                 ['Tumor_Grade', 'Symptoms_Severity',\n",
       "                                  'Alcohol_Consumption',\n",
       "                                  'Exercise_Frequency'])])"
      ]
     },
     "execution_count": 24,
     "metadata": {},
     "output_type": "execute_result"
    }
   ],
   "source": [
    "preprocessing"
   ]
  },
  {
   "cell_type": "code",
   "execution_count": null,
   "id": "601aba90-0131-411b-86c6-e2e6dfe10876",
   "metadata": {},
   "outputs": [],
   "source": []
  },
  {
   "cell_type": "code",
   "execution_count": 25,
   "id": "b90e01c9-08c8-4070-80ab-3919c72b834e",
   "metadata": {},
   "outputs": [],
   "source": [
    "X = df.iloc[:,:-1]\n",
    "y = df.iloc[:,-1]\n",
    "\n",
    "X_train, X_test, y_train, y_test = train_test_split(X, y, test_size=0.20, random_state=42)"
   ]
  },
  {
   "cell_type": "code",
   "execution_count": null,
   "id": "90da204e-f3f6-4903-8209-ee849be11e36",
   "metadata": {},
   "outputs": [],
   "source": []
  },
  {
   "cell_type": "code",
   "execution_count": 26,
   "id": "ed433e08-4194-4abe-9dd2-f7e89ce555e2",
   "metadata": {},
   "outputs": [],
   "source": [
    "from sklearn.model_selection import train_test_split\n",
    "from sklearn.linear_model import LogisticRegression\n",
    "from sklearn.tree import DecisionTreeClassifier"
   ]
  },
  {
   "cell_type": "code",
   "execution_count": 27,
   "id": "b06e6d85-d7f6-4da2-a588-064a463493c5",
   "metadata": {},
   "outputs": [],
   "source": [
    "DT = Pipeline([('Preprocess',preprocessing,\n",
    "               ('Model',DecisionTreeClassifier()))])"
   ]
  },
  {
   "cell_type": "code",
   "execution_count": 28,
   "id": "467b1eab-2ddb-45e1-bb1a-ea9452426edd",
   "metadata": {},
   "outputs": [
    {
     "data": {
      "text/html": [
       "<style>#sk-container-id-8 {color: black;}#sk-container-id-8 pre{padding: 0;}#sk-container-id-8 div.sk-toggleable {background-color: white;}#sk-container-id-8 label.sk-toggleable__label {cursor: pointer;display: block;width: 100%;margin-bottom: 0;padding: 0.3em;box-sizing: border-box;text-align: center;}#sk-container-id-8 label.sk-toggleable__label-arrow:before {content: \"▸\";float: left;margin-right: 0.25em;color: #696969;}#sk-container-id-8 label.sk-toggleable__label-arrow:hover:before {color: black;}#sk-container-id-8 div.sk-estimator:hover label.sk-toggleable__label-arrow:before {color: black;}#sk-container-id-8 div.sk-toggleable__content {max-height: 0;max-width: 0;overflow: hidden;text-align: left;background-color: #f0f8ff;}#sk-container-id-8 div.sk-toggleable__content pre {margin: 0.2em;color: black;border-radius: 0.25em;background-color: #f0f8ff;}#sk-container-id-8 input.sk-toggleable__control:checked~div.sk-toggleable__content {max-height: 200px;max-width: 100%;overflow: auto;}#sk-container-id-8 input.sk-toggleable__control:checked~label.sk-toggleable__label-arrow:before {content: \"▾\";}#sk-container-id-8 div.sk-estimator input.sk-toggleable__control:checked~label.sk-toggleable__label {background-color: #d4ebff;}#sk-container-id-8 div.sk-label input.sk-toggleable__control:checked~label.sk-toggleable__label {background-color: #d4ebff;}#sk-container-id-8 input.sk-hidden--visually {border: 0;clip: rect(1px 1px 1px 1px);clip: rect(1px, 1px, 1px, 1px);height: 1px;margin: -1px;overflow: hidden;padding: 0;position: absolute;width: 1px;}#sk-container-id-8 div.sk-estimator {font-family: monospace;background-color: #f0f8ff;border: 1px dotted black;border-radius: 0.25em;box-sizing: border-box;margin-bottom: 0.5em;}#sk-container-id-8 div.sk-estimator:hover {background-color: #d4ebff;}#sk-container-id-8 div.sk-parallel-item::after {content: \"\";width: 100%;border-bottom: 1px solid gray;flex-grow: 1;}#sk-container-id-8 div.sk-label:hover label.sk-toggleable__label {background-color: #d4ebff;}#sk-container-id-8 div.sk-serial::before {content: \"\";position: absolute;border-left: 1px solid gray;box-sizing: border-box;top: 0;bottom: 0;left: 50%;z-index: 0;}#sk-container-id-8 div.sk-serial {display: flex;flex-direction: column;align-items: center;background-color: white;padding-right: 0.2em;padding-left: 0.2em;position: relative;}#sk-container-id-8 div.sk-item {position: relative;z-index: 1;}#sk-container-id-8 div.sk-parallel {display: flex;align-items: stretch;justify-content: center;background-color: white;position: relative;}#sk-container-id-8 div.sk-item::before, #sk-container-id-8 div.sk-parallel-item::before {content: \"\";position: absolute;border-left: 1px solid gray;box-sizing: border-box;top: 0;bottom: 0;left: 50%;z-index: -1;}#sk-container-id-8 div.sk-parallel-item {display: flex;flex-direction: column;z-index: 1;position: relative;background-color: white;}#sk-container-id-8 div.sk-parallel-item:first-child::after {align-self: flex-end;width: 50%;}#sk-container-id-8 div.sk-parallel-item:last-child::after {align-self: flex-start;width: 50%;}#sk-container-id-8 div.sk-parallel-item:only-child::after {width: 0;}#sk-container-id-8 div.sk-dashed-wrapped {border: 1px dashed gray;margin: 0 0.4em 0.5em 0.4em;box-sizing: border-box;padding-bottom: 0.4em;background-color: white;}#sk-container-id-8 div.sk-label label {font-family: monospace;font-weight: bold;display: inline-block;line-height: 1.2em;}#sk-container-id-8 div.sk-label-container {text-align: center;}#sk-container-id-8 div.sk-container {/* jupyter's `normalize.less` sets `[hidden] { display: none; }` but bootstrap.min.css set `[hidden] { display: none !important; }` so we also need the `!important` here to be able to override the default hidden behavior on the sphinx rendered scikit-learn.org. See: https://github.com/scikit-learn/scikit-learn/issues/21755 */display: inline-block !important;position: relative;}#sk-container-id-8 div.sk-text-repr-fallback {display: none;}</style><div id=\"sk-container-id-8\" class=\"sk-top-container\"><div class=\"sk-text-repr-fallback\"><pre>Pipeline(steps=[(&#x27;Preprocess&#x27;,\n",
       "                 ColumnTransformer(remainder=&#x27;passthrough&#x27;,\n",
       "                                   transformers=[(&#x27;Numarical Transformer&#x27;,\n",
       "                                                  Pipeline(steps=[(&#x27;Mean &#x27;\n",
       "                                                                   &#x27;Imputer&#x27;,\n",
       "                                                                   SimpleImputer()),\n",
       "                                                                  (&#x27;Scaling&#x27;,\n",
       "                                                                   StandardScaler())]),\n",
       "                                                  [&#x27;Age&#x27;, &#x27;Tumor_Size&#x27;]),\n",
       "                                                 (&#x27;Ordinal Transformer&#x27;,\n",
       "                                                  Pipeline(steps=[(&#x27;mode &#x27;\n",
       "                                                                   &#x27;Imputer&#x27;,\n",
       "                                                                   SimpleImputer(strategy=&#x27;most_frequent&#x27;)),\n",
       "                                                                  (&#x27;Encoding&#x27;,\n",
       "                                                                   OrdinalEncoder(dtype=&lt;class &#x27;int&#x27;&gt;))]),\n",
       "                                                  [&#x27;Tumor_Grade&#x27;,\n",
       "                                                   &#x27;Symptoms_Severity&#x27;,\n",
       "                                                   &#x27;Alcohol_Consumption&#x27;,\n",
       "                                                   &#x27;Exercise_Frequency&#x27;]),\n",
       "                                                 (&#x27;Nominal Transformer&#x27;,\n",
       "                                                  Pipeline(steps=[(&#x27;mode &#x27;\n",
       "                                                                   &#x27;Imputer&#x27;,\n",
       "                                                                   SimpleImputer(strategy=&#x27;most_frequent&#x27;)),\n",
       "                                                                  (&#x27;Encoding&#x27;,\n",
       "                                                                   OneHotEncoder(dtype=&lt;class &#x27;int&#x27;&gt;))]),\n",
       "                                                  [&#x27;Tumor_Grade&#x27;,\n",
       "                                                   &#x27;Symptoms_Severity&#x27;,\n",
       "                                                   &#x27;Alcohol_Consumption&#x27;,\n",
       "                                                   &#x27;Exercise_Frequency&#x27;])]),\n",
       "                 (&#x27;Model&#x27;, DecisionTreeClassifier()))])</pre><b>In a Jupyter environment, please rerun this cell to show the HTML representation or trust the notebook. <br />On GitHub, the HTML representation is unable to render, please try loading this page with nbviewer.org.</b></div><div class=\"sk-container\" hidden><div class=\"sk-item\"><div class=\"sk-estimator sk-toggleable\"><input class=\"sk-toggleable__control sk-hidden--visually\" id=\"sk-estimator-id-42\" type=\"checkbox\" checked><label for=\"sk-estimator-id-42\" class=\"sk-toggleable__label sk-toggleable__label-arrow\">Pipeline</label><div class=\"sk-toggleable__content\"><pre>Pipeline(steps=[(&#x27;Preprocess&#x27;,\n",
       "                 ColumnTransformer(remainder=&#x27;passthrough&#x27;,\n",
       "                                   transformers=[(&#x27;Numarical Transformer&#x27;,\n",
       "                                                  Pipeline(steps=[(&#x27;Mean &#x27;\n",
       "                                                                   &#x27;Imputer&#x27;,\n",
       "                                                                   SimpleImputer()),\n",
       "                                                                  (&#x27;Scaling&#x27;,\n",
       "                                                                   StandardScaler())]),\n",
       "                                                  [&#x27;Age&#x27;, &#x27;Tumor_Size&#x27;]),\n",
       "                                                 (&#x27;Ordinal Transformer&#x27;,\n",
       "                                                  Pipeline(steps=[(&#x27;mode &#x27;\n",
       "                                                                   &#x27;Imputer&#x27;,\n",
       "                                                                   SimpleImputer(strategy=&#x27;most_frequent&#x27;)),\n",
       "                                                                  (&#x27;Encoding&#x27;,\n",
       "                                                                   OrdinalEncoder(dtype=&lt;class &#x27;int&#x27;&gt;))]),\n",
       "                                                  [&#x27;Tumor_Grade&#x27;,\n",
       "                                                   &#x27;Symptoms_Severity&#x27;,\n",
       "                                                   &#x27;Alcohol_Consumption&#x27;,\n",
       "                                                   &#x27;Exercise_Frequency&#x27;]),\n",
       "                                                 (&#x27;Nominal Transformer&#x27;,\n",
       "                                                  Pipeline(steps=[(&#x27;mode &#x27;\n",
       "                                                                   &#x27;Imputer&#x27;,\n",
       "                                                                   SimpleImputer(strategy=&#x27;most_frequent&#x27;)),\n",
       "                                                                  (&#x27;Encoding&#x27;,\n",
       "                                                                   OneHotEncoder(dtype=&lt;class &#x27;int&#x27;&gt;))]),\n",
       "                                                  [&#x27;Tumor_Grade&#x27;,\n",
       "                                                   &#x27;Symptoms_Severity&#x27;,\n",
       "                                                   &#x27;Alcohol_Consumption&#x27;,\n",
       "                                                   &#x27;Exercise_Frequency&#x27;])]),\n",
       "                 (&#x27;Model&#x27;, DecisionTreeClassifier()))])</pre></div></div></div></div></div>"
      ],
      "text/plain": [
       "Pipeline(steps=[('Preprocess',\n",
       "                 ColumnTransformer(remainder='passthrough',\n",
       "                                   transformers=[('Numarical Transformer',\n",
       "                                                  Pipeline(steps=[('Mean '\n",
       "                                                                   'Imputer',\n",
       "                                                                   SimpleImputer()),\n",
       "                                                                  ('Scaling',\n",
       "                                                                   StandardScaler())]),\n",
       "                                                  ['Age', 'Tumor_Size']),\n",
       "                                                 ('Ordinal Transformer',\n",
       "                                                  Pipeline(steps=[('mode '\n",
       "                                                                   'Imputer',\n",
       "                                                                   SimpleImputer(strategy='most_frequent')),\n",
       "                                                                  ('Encoding',\n",
       "                                                                   OrdinalEncoder(dtype=<class 'int'>))]),\n",
       "                                                  ['Tumor_Grade',\n",
       "                                                   'Symptoms_Severity',\n",
       "                                                   'Alcohol_Consumption',\n",
       "                                                   'Exercise_Frequency']),\n",
       "                                                 ('Nominal Transformer',\n",
       "                                                  Pipeline(steps=[('mode '\n",
       "                                                                   'Imputer',\n",
       "                                                                   SimpleImputer(strategy='most_frequent')),\n",
       "                                                                  ('Encoding',\n",
       "                                                                   OneHotEncoder(dtype=<class 'int'>))]),\n",
       "                                                  ['Tumor_Grade',\n",
       "                                                   'Symptoms_Severity',\n",
       "                                                   'Alcohol_Consumption',\n",
       "                                                   'Exercise_Frequency'])]),\n",
       "                 ('Model', DecisionTreeClassifier()))])"
      ]
     },
     "execution_count": 28,
     "metadata": {},
     "output_type": "execute_result"
    }
   ],
   "source": [
    "DT"
   ]
  },
  {
   "cell_type": "code",
   "execution_count": null,
   "id": "a29fa368-4321-4fce-b185-2aac0eb63e33",
   "metadata": {},
   "outputs": [],
   "source": []
  }
 ],
 "metadata": {
  "kernelspec": {
   "display_name": "Python 3 (ipykernel)",
   "language": "python",
   "name": "python3"
  },
  "language_info": {
   "codemirror_mode": {
    "name": "ipython",
    "version": 3
   },
   "file_extension": ".py",
   "mimetype": "text/x-python",
   "name": "python",
   "nbconvert_exporter": "python",
   "pygments_lexer": "ipython3",
   "version": "3.12.2"
  }
 },
 "nbformat": 4,
 "nbformat_minor": 5
}
